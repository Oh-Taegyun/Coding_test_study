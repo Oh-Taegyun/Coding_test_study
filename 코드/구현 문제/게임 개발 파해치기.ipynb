{
 "cells": [
  {
   "cell_type": "markdown",
   "metadata": {},
   "source": [
    "### 게임 개발 파해치기\n",
    "---\n",
    "\n",
    "#### 1. 이동 관련 테크닉\n",
    "축을 기준으로 행동할 수 있는 경우의 수를 나눠준다. 보통은 좌표를 이동하기만 하면 되었다.\n",
    "\n",
    "근데 이 문제는 거기서 한발 더 가야한다. 바로 '방향'이 설정되어 있기 때문이다.\n",
    "\n",
    "![이동 관련](../../%EC%9D%B4%EB%AF%B8%EC%A7%80/image_5.jpg)\n",
    "\n",
    "이 문제는 방향과 이동 둘 다 생각해야 한다.\n",
    "\n",
    "그런데 저렇게 index를 기준으로 깔끔하게 어떻게 나눌 수 있었을까??\n",
    "\n",
    "문제를 보면 방향을 에초에 0 ~ 3으로 정해주었다. 방향에 따라서 이동하는게 달라지는 문제라 방향을 기준으로 이동할 수 있는 경우의 수를 나눠준 것\n",
    "\n",
    "이래서 문제를 잘 읽어봐야 한다\n",
    "\n",
    "\n",
    "#### 2. 방향 관련 테크닉\n",
    "``` cpp\n",
    "void turn_left() \n",
    "{\n",
    "    direction -= 1;\n",
    "    if (direction == -1) direction = 3;\n",
    "}\n",
    "```\n",
    "\n",
    "direction이 3이 넘어가면 다시 0으로 초기화 해줘야 하는데 그 기능을 써놓지 않고 구현하자\n",
    "\n",
    "방향이 영원히 도는 현상을 발견하게 되었다...\n",
    "\n",
    "\n"
   ]
  },
  {
   "cell_type": "markdown",
   "metadata": {},
   "source": [
    "#### 3. 문제 풀이 방식\n",
    "이 문제는 메뉴얼을 제시한다.\n",
    "\n",
    "그것도 단계별로 상세히 제시한다.\n",
    "\n",
    "바로 이게 문제를 푸는 방법이다.\n",
    "\n",
    "그리디 문제의 경우 문제에서 제시하는 메뉴얼 그대로 순서에 맞춰서 코드를 짜면 금세 풀리는 형식이다"
   ]
  },
  {
   "cell_type": "markdown",
   "metadata": {},
   "source": []
  }
 ],
 "metadata": {
  "kernelspec": {
   "display_name": "Python 3.9.12 ('base')",
   "language": "python",
   "name": "python3"
  },
  "language_info": {
   "name": "python",
   "version": "3.9.12"
  },
  "orig_nbformat": 4,
  "vscode": {
   "interpreter": {
    "hash": "ad3d9e055c1d3a5095dcc9ca4fe0f056a3ea87b0bf12b5cad5a5fd97d09b3838"
   }
  }
 },
 "nbformat": 4,
 "nbformat_minor": 2
}
