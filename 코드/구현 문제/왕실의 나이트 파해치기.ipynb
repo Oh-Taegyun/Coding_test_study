{
 "cells": [
  {
   "cell_type": "markdown",
   "metadata": {},
   "source": [
    "### 왕실의 나이트 개념분석\n",
    "---\n",
    "\n",
    "이론/구현문제 에서 다뤘던 내용이다. \n",
    "\n",
    "#### 1. 이동 관련 테크닉\n",
    "![이동 관련](../../%EC%9D%B4%EB%AF%B8%EC%A7%80/image_3.jpg)\n",
    "\n",
    "이렇게 축을 기준으로 행동할 수 있는 경우의 수를 나눠주면 된다. \n",
    "\n",
    "#### 2. string to int\n",
    "char은 아스키 코드로 작성되어 있다. 이를 이용해서 string 컨테이너의 내용을 쉽게 int로 전환해줄 수 있다.\n",
    "\n",
    "``` cpp\n",
    "string input(\"a1\");\n",
    "int x = input[0] - 'a' + 1;\n",
    "int y = input[1] - '0';\n",
    "```\n",
    "문자열을 int 형태로 바꾸고 싶을때는 아스키 코드를 이용한 간단한 테크닉으로 문제를 해결할 수 있다.\n",
    "\n",
    "![아스키코드](../../%EC%9D%B4%EB%AF%B8%EC%A7%80/image_4.png)"
   ]
  },
  {
   "cell_type": "markdown",
   "metadata": {},
   "source": []
  }
 ],
 "metadata": {
  "kernelspec": {
   "display_name": "Python 3.9.12 ('base')",
   "language": "python",
   "name": "python3"
  },
  "language_info": {
   "name": "python",
   "version": "3.9.12"
  },
  "orig_nbformat": 4,
  "vscode": {
   "interpreter": {
    "hash": "ad3d9e055c1d3a5095dcc9ca4fe0f056a3ea87b0bf12b5cad5a5fd97d09b3838"
   }
  }
 },
 "nbformat": 4,
 "nbformat_minor": 2
}
