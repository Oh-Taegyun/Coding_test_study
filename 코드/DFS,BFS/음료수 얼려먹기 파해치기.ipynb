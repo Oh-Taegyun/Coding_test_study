{
 "cells": [
  {
   "cell_type": "markdown",
   "metadata": {},
   "source": [
    "## 음료수 얼려먹기 파해치기\n",
    "---\n",
    "\n",
    "#### 1. 입력 방식\n",
    "\n",
    "이 문제에서 \n",
    "00110\n",
    "00011\n",
    "11111\n",
    "00000\n",
    "처럼 입력을 받는데, 문제는 cin을 이용한다면 공백으로 나뉘어지지가 않아서 그냥 그대로 받아들이다가 에러가 난다.\n",
    "\n",
    "그럼 어떻게 입력을 받아야 할까?\n",
    "\n",
    "답은 C언어의 scanf이다. \n",
    "\n",
    "``` cpp\n",
    "for (int i = 0; i < n; i++) \n",
    "{\n",
    "    for (int j = 0; j < m; j++) \n",
    "    {\n",
    "        scanf(\"%1d\", &graph[i][j]); // 1d라고 고정해주는 바람에 1글자씩 입력 받을 수 있다.\n",
    "    }\n",
    "}\n",
    "```"
   ]
  },
  {
   "cell_type": "markdown",
   "metadata": {},
   "source": []
  },
  {
   "cell_type": "markdown",
   "metadata": {},
   "source": []
  }
 ],
 "metadata": {
  "kernelspec": {
   "display_name": "Python 3.9.12 ('base')",
   "language": "python",
   "name": "python3"
  },
  "language_info": {
   "name": "python",
   "version": "3.9.12"
  },
  "orig_nbformat": 4,
  "vscode": {
   "interpreter": {
    "hash": "ad3d9e055c1d3a5095dcc9ca4fe0f056a3ea87b0bf12b5cad5a5fd97d09b3838"
   }
  }
 },
 "nbformat": 4,
 "nbformat_minor": 2
}
