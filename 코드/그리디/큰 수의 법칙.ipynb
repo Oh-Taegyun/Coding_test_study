{
 "cells": [
  {
   "cell_type": "markdown",
   "metadata": {},
   "source": [
    "### 큰 수의 법칙 개념 추출\n",
    "---\n",
    "이 문제는 M의 크기가 10,000이하이므로 냅다 코딩해도 좋지만 M이 100억 이상이라고 한다면 시간이 초과될 것이다.\n",
    "\n",
    "여기서 알아가야 할 개념은 '반복되는 수열'이다.\n",
    "\n",
    "N이 6이고 M이 12이고 K가 4이라고 하자. \n",
    "\n",
    "또한 주어진 수열이 [2, 4, 5, 6, 7, 8]이라고 하자.\n",
    "\n",
    "K가 4이므로 [8 + 8 + 8 + 8 + 7] 가 한 세트로 묶여 반복되어 더해지고 있다.\n",
    "\n",
    "M이 12이니까\n",
    "\n",
    "[[8 + 8 + 8 + 8 + 7] + [8 + 8 + 8 + 8 + 7 ] + [8 + 8]] 일 것이다. \n",
    "\n",
    "즉 (M / (K+1)) 만큼 배열이 반복되고 나머지 값은 (M % (k+1))만큼 큰 숫자가 더해지는 형식이다. \n",
    "\n",
    "첫 번째로 큰 수에만 집중해보자\n",
    "\n",
    "첫 번째로 큰 수는 count = (M / (k+1)) * k + (M % (k+1)) 만큼 더해지고\n",
    "\n",
    "두 번째로 큰 수는 M - count 이다. \n"
   ]
  },
  {
   "cell_type": "code",
   "execution_count": 7,
   "metadata": {},
   "outputs": [
    {
     "name": "stdout",
     "output_type": "stream",
     "text": [
      "46\n"
     ]
    }
   ],
   "source": [
    "# 이미 데이터가 입력되었다고 치자\n",
    "N = 5\n",
    "M = 8\n",
    "K = 3\n",
    "data = [2, 4, 5, 4, 6]\n",
    "data.sort(reverse=True)\n",
    "\n",
    "first = data[0]\n",
    "second = data[1]\n",
    "ans = 0\n",
    "\n",
    "count = int(((M / (K+1)) * K) + (M % (K+1)))\n",
    "\n",
    "ans += first * count\n",
    "ans += second * (M - count)\n",
    "\n",
    "print(ans)\n"
   ]
  },
  {
   "cell_type": "markdown",
   "metadata": {},
   "source": [
    "여기서 가져가야 할 것은\n",
    "\n",
    "문제에서 반복되는 수열로 파악이 된다면 \n",
    "\n",
    "수열을 빠르게 파악해서 `반복되는 횟수`를 빠르게 파악한다.\n",
    "\n",
    "이때 반복문을 통해서 연산을 하기보다 `반복되는 횟수를 이용해서 빠르게 계산하는 방법`이다."
   ]
  },
  {
   "cell_type": "markdown",
   "metadata": {},
   "source": []
  }
 ],
 "metadata": {
  "kernelspec": {
   "display_name": "Python 3.9.12 ('base')",
   "language": "python",
   "name": "python3"
  },
  "language_info": {
   "codemirror_mode": {
    "name": "ipython",
    "version": 3
   },
   "file_extension": ".py",
   "mimetype": "text/x-python",
   "name": "python",
   "nbconvert_exporter": "python",
   "pygments_lexer": "ipython3",
   "version": "3.9.12"
  },
  "orig_nbformat": 4,
  "vscode": {
   "interpreter": {
    "hash": "ad3d9e055c1d3a5095dcc9ca4fe0f056a3ea87b0bf12b5cad5a5fd97d09b3838"
   }
  }
 },
 "nbformat": 4,
 "nbformat_minor": 2
}
