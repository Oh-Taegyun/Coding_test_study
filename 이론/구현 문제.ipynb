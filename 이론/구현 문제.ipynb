{
 "cells": [
  {
   "cell_type": "markdown",
   "metadata": {},
   "source": [
    "### 구현 문제\n",
    "---\n",
    "\n",
    "#### 1. 구현 시 고려해야 할 메모리 제약 사항\n",
    "\n",
    "자료형의 종류\n",
    "\n",
    "<table>\n",
    "    <tr>\n",
    "        <th colspan=\"4\">정수형</th>\n",
    "    </tr>\n",
    "    <tr>\n",
    "        <td>char</td>\n",
    "        <td>short</td>\n",
    "        <td>int</td>\n",
    "        <td>long</td>\n",
    "    </tr>\n",
    "    <tr>\n",
    "        <td>1바이트</td>\n",
    "        <td>2바이트</td>\n",
    "        <td>4바이트</td>\n",
    "        <td>4바이트</td>\n",
    "    </tr>\n",
    "</table>\n",
    "\n",
    "</br>\n",
    "\n",
    "<table>\n",
    "    <tr>\n",
    "        <th colspan=\"3\">실수형</th>\n",
    "    </tr>\n",
    "    <tr>\n",
    "        <td>float</td>\n",
    "        <td>double</td>\n",
    "        <td>long double</td>\n",
    "    </tr>\n",
    "</table>\n",
    "\n",
    "</br></br>\n",
    "\n",
    "c/c++에서 변수의 표현 범위\n",
    "<table>\n",
    "    <tr>\n",
    "        <td>정수형 종류</td>\n",
    "        <td>자료형의 크기</td>\n",
    "        <td>자료형의 범위</td>\n",
    "    </tr>\n",
    "    <tr>\n",
    "        <td>int</td>\n",
    "        <td>4바이트</td>\n",
    "        <td>-2,147,483,648 ~ 2,147,483,648</td>\n",
    "    </tr>\n",
    "    <tr>\n",
    "        <td>long long</td>\n",
    "        <td>8바이트</td>\n",
    "        <td>-9,223,372,036,854,775,808 ~ 9,223,372,036,854,775,808</td>\n",
    "    </tr>\n",
    "    <tr>\n",
    "        <td>BigInteger(클래스)</td>\n",
    "        <td>가변적</td>\n",
    "        <td>무제한</td>\n",
    "    </tr>\n",
    "</table>\n",
    "\n",
    "</br>\n",
    "\n",
    "\n"
   ]
  },
  {
   "cell_type": "markdown",
   "metadata": {},
   "source": []
  }
 ],
 "metadata": {
  "kernelspec": {
   "display_name": "Python 3.9.12 ('base')",
   "language": "python",
   "name": "python3"
  },
  "language_info": {
   "name": "python",
   "version": "3.9.12"
  },
  "orig_nbformat": 4,
  "vscode": {
   "interpreter": {
    "hash": "ad3d9e055c1d3a5095dcc9ca4fe0f056a3ea87b0bf12b5cad5a5fd97d09b3838"
   }
  }
 },
 "nbformat": 4,
 "nbformat_minor": 2
}
